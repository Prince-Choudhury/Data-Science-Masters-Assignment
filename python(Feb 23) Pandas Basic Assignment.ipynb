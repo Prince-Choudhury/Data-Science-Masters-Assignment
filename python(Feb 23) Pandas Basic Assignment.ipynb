{
 "cells": [
  {
   "cell_type": "markdown",
   "id": "b3b735d3-b565-4d53-915b-eecf72d551e4",
   "metadata": {},
   "source": [
    "Q1. Create a Pandas Series that contains the following data: 4, 8, 15, 16, 23, and 42. Then, print the series."
   ]
  },
  {
   "cell_type": "code",
   "execution_count": 4,
   "id": "148fab2f-c8c2-4a7f-99c5-701b53d0a688",
   "metadata": {},
   "outputs": [
    {
     "name": "stdout",
     "output_type": "stream",
     "text": [
      "0     4\n",
      "1     8\n",
      "2    15\n",
      "3    16\n",
      "4    23\n",
      "5    42\n",
      "dtype: int64\n"
     ]
    }
   ],
   "source": [
    "import pandas as pd\n",
    "\n",
    "data = [4, 8, 15, 16, 23, 42]\n",
    "series = pd.Series(data)\n",
    "print(series)"
   ]
  },
  {
   "cell_type": "code",
   "execution_count": null,
   "id": "799066dd-3f37-48f4-9eb6-d4cbbb4a49fe",
   "metadata": {},
   "outputs": [],
   "source": []
  },
  {
   "cell_type": "markdown",
   "id": "3583f7a7-7097-433a-ba4a-75878daf1975",
   "metadata": {},
   "source": [
    "Q2. Create a variable of list type containing 10 elements in it, and apply pandas.Series function on the\n",
    "variable print it."
   ]
  },
  {
   "cell_type": "code",
   "execution_count": 11,
   "id": "649aafff-aa69-44ff-b6c4-edcbf556a7bf",
   "metadata": {},
   "outputs": [
    {
     "name": "stdout",
     "output_type": "stream",
     "text": [
      "0     1\n",
      "1     2\n",
      "2     3\n",
      "3     4\n",
      "4     5\n",
      "5     6\n",
      "6     7\n",
      "7     8\n",
      "8     9\n",
      "9    10\n",
      "dtype: int64\n"
     ]
    }
   ],
   "source": [
    "import pandas as pd\n",
    "\n",
    "data = [1,2,3,4,5,6,7,8,9,10]\n",
    "series = pd.Series(data)\n",
    "print(series)"
   ]
  },
  {
   "cell_type": "code",
   "execution_count": null,
   "id": "6ba96ac9-ec14-4cf5-aa9e-a1a02600fdf2",
   "metadata": {},
   "outputs": [],
   "source": []
  },
  {
   "cell_type": "markdown",
   "id": "388046df-d01a-417a-b001-3585ab8d7be7",
   "metadata": {},
   "source": [
    "Q3. Create a Pandas DataFrame that contains the following data:\n",
    "    \n",
    "Then, print the DataFrame."
   ]
  },
  {
   "cell_type": "code",
   "execution_count": 10,
   "id": "36adfc05-698c-4b60-9278-06d3cf4c71a5",
   "metadata": {},
   "outputs": [
    {
     "name": "stdout",
     "output_type": "stream",
     "text": [
      "     Name  Age  Gender\n",
      "0   Alice   25  Female\n",
      "1     Bob   30    Male\n",
      "2  Claire   27  Female\n"
     ]
    }
   ],
   "source": [
    "import pandas as pd\n",
    "\n",
    "data = {'Name' : ['Alice', 'Bob', 'Claire'],\n",
    "        'Age': [25, 30, 27], \n",
    "        'Gender' : ['Female', 'Male', 'Female']}\n",
    "\n",
    "df = pd.DataFrame(data)\n",
    "print(df)"
   ]
  },
  {
   "cell_type": "code",
   "execution_count": null,
   "id": "6fb3c303-9982-4bdf-98b6-ba85005a92d8",
   "metadata": {},
   "outputs": [],
   "source": []
  },
  {
   "cell_type": "markdown",
   "id": "7d28999b-135b-4b1e-b949-97652c42c6f5",
   "metadata": {},
   "source": [
    "Q4. What is ‘DataFrame’ in pandas and how is it different from pandas.series? Explain with an example."
   ]
  },
  {
   "cell_type": "markdown",
   "id": "8c025689-7fec-45c3-8f34-bd648b1842de",
   "metadata": {},
   "source": [
    "Ans : In Pandas, a DataFrame is a two-dimensional, size-mutable tabular data structure that consists of rows and columns. It can be thought of as a collection of Pandas Series where each Series represents a column in the DataFrame.\n",
    "\n",
    "A Pandas Series, on the other hand, is a one-dimensional labeled array that can hold data of any type (integer, float, string, etc.).\n",
    "\n",
    "Here's an example that illustrates the difference between a Pandas DataFrame and a Pandas Series:\n"
   ]
  },
  {
   "cell_type": "code",
   "execution_count": 12,
   "id": "d519b373-8940-41e1-bbbc-fdda26897677",
   "metadata": {},
   "outputs": [
    {
     "name": "stdout",
     "output_type": "stream",
     "text": [
      "    name  age    country\n",
      "0   John   28        USA\n",
      "1  Sarah   31     Canada\n",
      "2    Bob   24         UK\n",
      "3   Mary   27  Australia\n"
     ]
    }
   ],
   "source": [
    "import pandas as pd\n",
    "\n",
    "# Example DataFrame\n",
    "data = {'name': ['John', 'Sarah', 'Bob', 'Mary'],\n",
    "        'age': [28, 31, 24, 27],\n",
    "        'country': ['USA', 'Canada', 'UK', 'Australia']}\n",
    "\n",
    "df = pd.DataFrame(data)\n",
    "print(df)\n"
   ]
  },
  {
   "cell_type": "code",
   "execution_count": 15,
   "id": "e7a51b00-0067-42e8-be95-edf530f18f54",
   "metadata": {},
   "outputs": [
    {
     "name": "stdout",
     "output_type": "stream",
     "text": [
      "0          USA\n",
      "1       Canada\n",
      "2           UK\n",
      "3    Australia\n",
      "Name: country, dtype: object\n"
     ]
    }
   ],
   "source": [
    "country_series = df['country']\n",
    "print(country_series)\n"
   ]
  },
  {
   "cell_type": "code",
   "execution_count": null,
   "id": "779c8164-d235-4503-bf4c-527bd03b553d",
   "metadata": {},
   "outputs": [],
   "source": []
  },
  {
   "cell_type": "markdown",
   "id": "f929b56a-88da-4362-b4be-935d53ebe441",
   "metadata": {},
   "source": [
    "Q5. What are some common functions you can use to manipulate data in a Pandas DataFrame? Can\n",
    "you give an example of when you might use one of these functions?"
   ]
  },
  {
   "cell_type": "markdown",
   "id": "4256a35a-9684-4308-a90e-625e01e9b16d",
   "metadata": {},
   "source": [
    "There are many functions available in Pandas that you can use to manipulate data in a DataFrame. Here are some common ones:\n",
    "\n",
    "1. head() and tail(): These functions allow you to view the first or last n rows of a DataFrame, respectively. For example, df.head() would return the first 5 rows of the DataFrame df.\n",
    "\n",
    "2. describe(): This function provides a summary of statistical information about the DataFrame, such as mean, standard deviation, and quartile ranges.\n",
    "\n",
    "3. sort_values(): This function allows you to sort the rows of a DataFrame by one or more columns. For example, df.sort_values('age') would return the DataFrame sorted by the 'age' column in ascending order.\n",
    "\n",
    "4. groupby(): This function allows you to group the rows of a DataFrame by one or more columns and perform operations on each group. For example, df.groupby('country')['age'].mean() would group the DataFrame by the 'country' column and return the mean age for each country.\n",
    "\n",
    "5. apply():This function applies a function to each row or column of a DataFrame. For example, df['age'].apply(lambda x: x + 1) would add 1 to each value in the 'age' column.\n",
    "\n",
    "Here's an example of how you might use one of these functions:\n",
    "\n",
    "Suppose you have a DataFrame sales_data with columns 'item', 'price', and 'quantity'. You want to calculate the total revenue for each item by multiplying the price and quantity columns together. You can do this using the apply() function:"
   ]
  },
  {
   "cell_type": "code",
   "execution_count": 18,
   "id": "f4f65d5b-089d-42fc-9e63-a410765e41b9",
   "metadata": {},
   "outputs": [
    {
     "name": "stdout",
     "output_type": "stream",
     "text": [
      "     item  price  quantity  revenue\n",
      "0   apple     12        10      120\n",
      "1  banana      5        20      100\n",
      "2  orange      8        15      120\n"
     ]
    }
   ],
   "source": [
    "import pandas as pd\n",
    "\n",
    "sales_data = pd.DataFrame({'item': ['apple', 'banana', 'orange'],\n",
    "                           'price': [12, 5, 8],\n",
    "                           'quantity': [10, 20, 15]})\n",
    "\n",
    "sales_data['revenue'] = sales_data.apply(lambda row: row['price'] * row['quantity'], axis=1)\n",
    "print(sales_data)\n"
   ]
  },
  {
   "cell_type": "code",
   "execution_count": null,
   "id": "b65d31b8-8c88-4a2d-99a9-8ed37629e6f3",
   "metadata": {},
   "outputs": [],
   "source": []
  },
  {
   "cell_type": "markdown",
   "id": "215978f5-6a97-4b04-a366-bbb005e2ce67",
   "metadata": {},
   "source": [
    "Q6. Which of the following is mutable in nature Series, DataFrame, Panel?"
   ]
  },
  {
   "cell_type": "markdown",
   "id": "6043f51f-05ea-48e7-ae25-616d8cf0ccdc",
   "metadata": {},
   "source": [
    "1. Series : Series is a one-dimensional array with homogeneous data.  All the elements of series should be of same data type\n",
    "\n",
    "Key Features of a Series:\n",
    "1.Homogeneous data\n",
    "2.Size Immutable – size cannot be changed\n",
    "3.Values of Data Mutable\n",
    "\n",
    "2. DataFrame : DataFrame is a two-dimensional array with heterogeneous data, usually represented in the tabular format. The data is represented in rows and columns. Each column represents an attribute and each row represents a person.\n",
    "\n",
    "Key Features of a DataFrame:\n",
    "1.Heterogeneous data\n",
    "2.Size Mutable\n",
    "3.Data Mutable\n",
    "\n",
    "3. Panel in pandas : Panel is a three-dimensional data structure with heterogeneous data.\n",
    "\n",
    "Key Features of a Panel:\n",
    "1.Heterogeneous data\n",
    "2.Size Mutable\n",
    "3.Data Mutable\n",
    "\n",
    "NOTE : All Pandas data structures are value mutable (can be changed) and except Series all are size mutable. Series is size immutable."
   ]
  },
  {
   "cell_type": "code",
   "execution_count": null,
   "id": "508db977-df1d-462e-840a-049c06421d24",
   "metadata": {},
   "outputs": [],
   "source": []
  },
  {
   "cell_type": "markdown",
   "id": "5acff1bb-3fe6-4936-9d32-53755b0ab5e9",
   "metadata": {},
   "source": [
    "Q7. Create a DataFrame using multiple Series. Explain with an example."
   ]
  },
  {
   "cell_type": "code",
   "execution_count": 20,
   "id": "9a6a4e25-9733-469c-87b7-82d4f6ad2899",
   "metadata": {},
   "outputs": [
    {
     "name": "stdout",
     "output_type": "stream",
     "text": [
      "     Name  Age Country\n",
      "0  Prince   20     USA\n",
      "1     Sai   19     USA\n",
      "2  Shivam   21  Canada\n",
      "3   Akash   23  London\n",
      "4   Kunal   22     USA\n"
     ]
    }
   ],
   "source": [
    "import pandas as pd\n",
    "\n",
    "# create the first Series\n",
    "Name = pd.Series(['Prince', 'Sai', 'Shivam', 'Akash', 'Kunal'])\n",
    "\n",
    "# create the second Series\n",
    "Age = pd.Series([20, 19, 21, 23, 22])\n",
    "\n",
    "# create the third Series\n",
    "Country = pd.Series(['USA', 'USA', 'Canada', 'London', 'USA'])\n",
    "\n",
    "# create the DataFrame\n",
    "df = pd.DataFrame({'Name' : Name, 'Age' : Age, 'Country' : Country})\n",
    "print(df)"
   ]
  },
  {
   "cell_type": "markdown",
   "id": "5117a085-83d3-4d26-b2de-fab73b5d54c8",
   "metadata": {},
   "source": [
    "In this example, we first created three Series objects called 'Name', 'Age' and 'Country'. We then passed a dictionary of these Series to the DataFrame constructor to create a new DataFrame called 'df'. The dictionary keys 'Name', 'Age' and 'Country' correspond to the column names in the resulting DataFrame, and the values are the Series objects themselves. The resulting DataFrame has three columns, 'Name', 'Age' and 'Country', with the corresponding values from the 'Name', 'Age' and 'Country' Series."
   ]
  }
 ],
 "metadata": {
  "kernelspec": {
   "display_name": "Python 3 (ipykernel)",
   "language": "python",
   "name": "python3"
  },
  "language_info": {
   "codemirror_mode": {
    "name": "ipython",
    "version": 3
   },
   "file_extension": ".py",
   "mimetype": "text/x-python",
   "name": "python",
   "nbconvert_exporter": "python",
   "pygments_lexer": "ipython3",
   "version": "3.10.8"
  }
 },
 "nbformat": 4,
 "nbformat_minor": 5
}
